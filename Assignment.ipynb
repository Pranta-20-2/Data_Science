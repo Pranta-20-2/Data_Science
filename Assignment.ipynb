{
 "cells": [
  {
   "cell_type": "markdown",
   "id": "3466b3d9",
   "metadata": {},
   "source": [
    "### Read data from income.csv and scale the relevant features using standardization"
   ]
  },
  {
   "cell_type": "code",
   "execution_count": 7,
   "id": "731e019d",
   "metadata": {},
   "outputs": [
    {
     "name": "stdout",
     "output_type": "stream",
     "text": [
      "        Name       Age    Income  Buy\n",
      "0        Rob -1.356055 -0.480684  Yes\n",
      "1    Michael -1.009157 -0.010159   No\n",
      "2      Mohan -1.009157 -0.692421  Yes\n",
      "3     Ismail -1.182606 -0.715947  Yes\n",
      "4       Kory  1.245679  1.401417   No\n",
      "5     Gautam  0.725332  1.519048  Yes\n",
      "6      David  1.072230  1.636679  Yes\n",
      "7     Andrea  0.551883  1.683732   No\n",
      "8       Brad  0.204985  1.542574  Yes\n",
      "9   Angelina  0.031536  0.930891   No\n",
      "10    Donald  0.378434  1.095575   No\n",
      "11       Tom -1.529504 -1.068841   No\n",
      "12    Arnold -1.356055 -0.998262  Yes\n",
      "13     Jared -1.182606 -0.927683   No\n",
      "14     Stark -1.009157 -0.962973   No\n",
      "15    Ranbir -0.488811 -0.880631   No\n",
      "16    Dipika  0.898781 -0.598316  Yes\n",
      "17  Priyanka  1.072230 -0.645368   No\n",
      "18      Nick  1.419128 -0.621842  Yes\n",
      "19      Alia  0.725332 -0.245422   No\n",
      "20       Sid  1.072230 -0.198369  Yes\n",
      "21     Abdul  0.725332 -0.762999   No\n"
     ]
    }
   ],
   "source": [
    "import pandas as pd\n",
    "from sklearn.preprocessing import StandardScaler\n",
    "df= pd.read_csv('income.csv')\n",
    "features = ['Age', 'Income']\n",
    "scaler = StandardScaler()\n",
    "scaler.fit(df[features])\n",
    "df[features] = scaler.transform(df[features])\n",
    "print(df)"
   ]
  },
  {
   "cell_type": "code",
   "execution_count": 5,
   "id": "cf5d1384",
   "metadata": {},
   "outputs": [],
   "source": []
  },
  {
   "cell_type": "code",
   "execution_count": 4,
   "id": "73d08a40",
   "metadata": {},
   "outputs": [
    {
     "name": "stdout",
     "output_type": "stream",
     "text": [
      "    Mileage  Sell Price($)  Age(yrs)  Car_Audi A5  Car_BMW X5  \\\n",
      "0     69000          18000         6            0           1   \n",
      "1     35000          34000         3            0           1   \n",
      "2     57000          26100         5            0           1   \n",
      "3     22500          40000         2            0           1   \n",
      "4     46000          31500         4            0           1   \n",
      "5     59000          29400         5            1           0   \n",
      "6     52000          32000         5            1           0   \n",
      "7     72000          19300         6            1           0   \n",
      "8     91000          12000         8            1           0   \n",
      "9     67000          22000         6            0           0   \n",
      "10    83000          20000         7            0           0   \n",
      "11    79000          21000         7            0           0   \n",
      "12    59000          33000         5            0           0   \n",
      "\n",
      "    Car_Mercedez Benz C class  \n",
      "0                           0  \n",
      "1                           0  \n",
      "2                           0  \n",
      "3                           0  \n",
      "4                           0  \n",
      "5                           0  \n",
      "6                           0  \n",
      "7                           0  \n",
      "8                           0  \n",
      "9                           1  \n",
      "10                          1  \n",
      "11                          1  \n",
      "12                          1  \n"
     ]
    }
   ],
   "source": [
    "import pandas as pd\n",
    "\n",
    "data = {\n",
    "    'Car Model': ['BMW X5', 'BMW X5', 'BMW X5', 'BMW X5', 'BMW X5', 'Audi A5', 'Audi A5', 'Audi A5', 'Audi A5', 'Mercedez Benz C class', 'Mercedez Benz C class', 'Mercedez Benz C class', 'Mercedez Benz C class'],\n",
    "    'Mileage': [69000, 35000, 57000, 22500, 46000, 59000, 52000, 72000, 91000, 67000, 83000, 79000, 59000],\n",
    "    'Sell Price($)': [18000, 34000, 26100, 40000, 31500, 29400, 32000, 19300, 12000, 22000, 20000, 21000, 33000],\n",
    "    'Age(yrs)': [6, 3, 5, 2, 4, 5, 5, 6, 8, 6, 7, 7, 5]\n",
    "}\n",
    "\n",
    "df = pd.DataFrame(data)\n",
    "\n",
    "df_encode = pd.get_dummies(df, columns=['Car Model'], prefix=['Car'])\n",
    "\n",
    "print(df_encode)\n"
   ]
  },
  {
   "cell_type": "code",
   "execution_count": 8,
   "id": "44bc17bf",
   "metadata": {},
   "outputs": [
    {
     "name": "stdout",
     "output_type": "stream",
     "text": [
      "    Mileage  Sell Price($)  Age(yrs)  Car_Audi A5  Car_BMW X5  \\\n",
      "0     69000          18000         6            0           1   \n",
      "1     35000          34000         3            0           1   \n",
      "2     57000          26100         5            0           1   \n",
      "3     22500          40000         2            0           1   \n",
      "4     46000          31500         4            0           1   \n",
      "5     59000          29400         5            1           0   \n",
      "6     52000          32000         5            1           0   \n",
      "7     72000          19300         6            1           0   \n",
      "8     91000          12000         8            1           0   \n",
      "9     67000          22000         6            0           0   \n",
      "10    83000          20000         7            0           0   \n",
      "11    79000          21000         7            0           0   \n",
      "12    59000          33000         5            0           0   \n",
      "\n",
      "    Car_Mercedez Benz C class  \n",
      "0                           0  \n",
      "1                           0  \n",
      "2                           0  \n",
      "3                           0  \n",
      "4                           0  \n",
      "5                           0  \n",
      "6                           0  \n",
      "7                           0  \n",
      "8                           0  \n",
      "9                           1  \n",
      "10                          1  \n",
      "11                          1  \n",
      "12                          1  \n"
     ]
    }
   ],
   "source": [
    "import pandas as pd\n",
    "\n",
    "dataVal= {\n",
    "    'Car Model': ['BMW X5', 'BMW X5', 'BMW X5', 'BMW X5', 'BMW X5', 'Audi A5', 'Audi A5', 'Audi A5', 'Audi A5', 'Mercedez Benz C class', 'Mercedez Benz C class', 'Mercedez Benz C class', 'Mercedez Benz C class'],\n",
    "    'Mileage': [69000, 35000, 57000, 22500, 46000, 59000, 52000, 72000, 91000, 67000, 83000, 79000, 59000],\n",
    "    'Sell Price($)': [18000, 34000, 26100, 40000, 31500, 29400, 32000, 19300, 12000, 22000, 20000, 21000, 33000],\n",
    "    'Age(yrs)': [6, 3, 5, 2, 4, 5, 5, 6, 8, 6, 7, 7, 5]\n",
    "}\n",
    "\n",
    "df = pd.DataFrame(dataVal)\n",
    "\n",
    "encode = pd.get_dummies(df, columns=['Car Model'], prefix=['Car'])\n",
    "\n",
    "print(encode)"
   ]
  },
  {
   "cell_type": "code",
   "execution_count": null,
   "id": "1b8e1324",
   "metadata": {},
   "outputs": [],
   "source": []
  }
 ],
 "metadata": {
  "kernelspec": {
   "display_name": "Python 3 (ipykernel)",
   "language": "python",
   "name": "python3"
  },
  "language_info": {
   "codemirror_mode": {
    "name": "ipython",
    "version": 3
   },
   "file_extension": ".py",
   "mimetype": "text/x-python",
   "name": "python",
   "nbconvert_exporter": "python",
   "pygments_lexer": "ipython3",
   "version": "3.10.9"
  }
 },
 "nbformat": 4,
 "nbformat_minor": 5
}
