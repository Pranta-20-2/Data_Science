{
 "cells": [
  {
   "cell_type": "code",
   "execution_count": 19,
   "id": "1c78d5ce",
   "metadata": {},
   "outputs": [
    {
     "name": "stdout",
     "output_type": "stream",
     "text": [
      "Training set:\n",
      "    Mileage  Age  Price\n",
      "8     91000    8  12000\n",
      "5     59000    5  26750\n",
      "11    79000    7  19500\n",
      "3     22500    2  40000\n",
      "18    87600    8  12800\n",
      "16    28000    2  35500\n",
      "13    58780    4  27500\n",
      "2     57000    5  26100\n",
      "9     67000    6  22000\n",
      "19    52000    5  28200\n",
      "4     46000    4  31500\n",
      "12    59000    5  26000\n",
      "7     72000    6  19300\n",
      "10    83000    7  18700\n",
      "14    82450    7  19400\n",
      "6     52000    5  32000\n",
      "\n",
      "Testing set:\n",
      "    Mileage  Age  Price\n",
      "0     69000    6  18000\n",
      "17    69000    5  19700\n",
      "15    25400    3  35000\n",
      "1     35000    3  34000\n"
     ]
    }
   ],
   "source": [
    "import pandas as pd\n",
    "from sklearn.model_selection import train_test_split\n",
    "\n",
    "data = pd.read_csv('Test.csv') #import data in Test.csv file\n",
    "\n",
    "df = pd.DataFrame(data)\n",
    "\n",
    "train_df, test_df = train_test_split(df, test_size=0.2, random_state=42)\n",
    "\n",
    "print(\"Training set:\")\n",
    "print(train_df)\n",
    "\n",
    "print(\"\\nTesting set:\")\n",
    "print(test_df)\n"
   ]
  },
  {
   "cell_type": "code",
   "execution_count": 21,
   "id": "82629b2d",
   "metadata": {},
   "outputs": [],
   "source": [
    "import pandas as pd\n",
    "from sklearn.model_selection import train_test_split\n",
    "\n",
    "# Create the dataframe\n",
    "df = pd.DataFrame({\n",
    "   'Mileage': [69000, 35000, 57000, 22500, 46000, 59000, 52000, 72000, 91000, 67000, 83000, 79000, 59000, 58780, 82450, 25400, 28000, 69000, 87600, 52000],\n",
    "    'Age': [6, 3, 5, 2, 4, 5, 5, 6, 8, 6, 7, 7, 5, 4, 7, 3, 2, 5, 8, 5],\n",
    "    'Price': [18000, 34000, 26100, 40000, 31500, 26750, 32000, 19300, 12000, 22000, 18700, 19500, 26000, 27500, 19400, 35000, 35500, 19700, 12800, 28200]\n",
    "})\n",
    "\n",
    "X_train, X_test, y_train, y_test = train_test_split(df[[\"Mileage\", \"Age\" , \"Price\"]], df[\"Price\"], test_size=0.2, random_state=42)"
   ]
  },
  {
   "cell_type": "code",
   "execution_count": null,
   "id": "e30f952c",
   "metadata": {},
   "outputs": [],
   "source": []
  }
 ],
 "metadata": {
  "kernelspec": {
   "display_name": "Python 3 (ipykernel)",
   "language": "python",
   "name": "python3"
  },
  "language_info": {
   "codemirror_mode": {
    "name": "ipython",
    "version": 3
   },
   "file_extension": ".py",
   "mimetype": "text/x-python",
   "name": "python",
   "nbconvert_exporter": "python",
   "pygments_lexer": "ipython3",
   "version": "3.10.9"
  }
 },
 "nbformat": 4,
 "nbformat_minor": 5
}
